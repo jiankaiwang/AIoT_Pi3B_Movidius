{
 "cells": [
  {
   "cell_type": "code",
   "execution_count": null,
   "metadata": {},
   "outputs": [],
   "source": [
    "!pip install --no-cache-dir -q pillow matplotlib"
   ]
  },
  {
   "cell_type": "code",
   "execution_count": null,
   "metadata": {},
   "outputs": [],
   "source": [
    "import logging\n",
    "import os\n",
    "import matplotlib.pyplot as plt\n",
    "import numpy as np\n",
    "import tensorflow as tf\n",
    "from tensorflow.python.saved_model import tag_constants\n",
    "\n",
    "logging.basicConfig(level=logging.INFO, \n",
    "                    format='%(asctime)s-%(levelname)s:%(message)s')\n",
    "logging.info(\"Tensorflow Version: {}\".format(tf.__version__))"
   ]
  },
  {
   "cell_type": "code",
   "execution_count": null,
   "metadata": {},
   "outputs": [],
   "source": [
    "!nvidia-smi"
   ]
  },
  {
   "cell_type": "code",
   "execution_count": 2,
   "metadata": {},
   "outputs": [
    {
     "data": {
      "text/plain": [
       "[PhysicalDevice(name='/physical_device:GPU:0', device_type='GPU')]"
      ]
     },
     "execution_count": 2,
     "metadata": {},
     "output_type": "execute_result"
    }
   ],
   "source": [
    "tf.config.list_physical_devices(\"GPU\")"
   ]
  },
  {
   "cell_type": "code",
   "execution_count": 3,
   "metadata": {},
   "outputs": [
    {
     "name": "stdout",
     "output_type": "stream",
     "text": [
      "ii  libnvinfer-bin              7.0.0-1+cuda10.2                    amd64        TensorRT binaries\n",
      "ii  libnvinfer-dev              7.0.0-1+cuda10.2                    amd64        TensorRT development libraries and headers\n",
      "ii  libnvinfer-plugin-dev       7.0.0-1+cuda10.2                    amd64        TensorRT plugin libraries\n",
      "ii  libnvinfer-plugin7          7.0.0-1+cuda10.2                    amd64        TensorRT plugin libraries\n",
      "ii  libnvinfer7                 7.0.0-1+cuda10.2                    amd64        TensorRT runtime libraries\n",
      "ii  python3-libnvinfer          7.0.0-1+cuda10.2                    amd64        Python 3 bindings for TensorRT\n",
      "ii  python3-libnvinfer-dev      7.0.0-1+cuda10.2                    amd64        Python 3 development package for TensorRT\n"
     ]
    }
   ],
   "source": [
    "!dpkg -l | grep nvinfer"
   ]
  },
  {
   "cell_type": "markdown",
   "metadata": {},
   "source": [
    "# TF-TRT FP32 Model"
   ]
  },
  {
   "cell_type": "code",
   "execution_count": 4,
   "metadata": {},
   "outputs": [],
   "source": [
    "outputTensorrtPath = \"/tmp/mcclust/mnist_tensorrt\"\n",
    "assert os.path.exists(outputTensorrtPath)"
   ]
  },
  {
   "cell_type": "code",
   "execution_count": 5,
   "metadata": {},
   "outputs": [
    {
     "name": "stdout",
     "output_type": "stream",
     "text": [
      "2020-10-05 07:21:37.167810: I tensorflow/stream_executor/platform/default/dso_loader.cc:44] Successfully opened dynamic library libcudart.so.10.2\n",
      "2020-10-05 07:21:37.843199: I tensorflow/stream_executor/platform/default/dso_loader.cc:44] Successfully opened dynamic library libnvinfer.so.7\n",
      "2020-10-05 07:21:37.844310: I tensorflow/stream_executor/platform/default/dso_loader.cc:44] Successfully opened dynamic library libnvinfer_plugin.so.7\n",
      "\n",
      "MetaGraphDef with tag-set: 'serve' contains the following SignatureDefs:\n",
      "\n",
      "signature_def['__saved_model_init_op']:\n",
      "  The given SavedModel SignatureDef contains the following input(s):\n",
      "  The given SavedModel SignatureDef contains the following output(s):\n",
      "    outputs['__saved_model_init_op'] tensor_info:\n",
      "        dtype: DT_INVALID\n",
      "        shape: unknown_rank\n",
      "        name: NoOp\n",
      "  Method name is: \n",
      "\n",
      "signature_def['serving_default']:\n",
      "  The given SavedModel SignatureDef contains the following input(s):\n",
      "    inputs['input_2'] tensor_info:\n",
      "        dtype: DT_FLOAT\n",
      "        shape: (-1, 28, 28, 1)\n",
      "        name: serving_default_input_2:0\n",
      "  The given SavedModel SignatureDef contains the following output(s):\n",
      "    outputs['dense_5'] tensor_info:\n",
      "        dtype: DT_FLOAT\n",
      "        shape: unknown_rank\n",
      "        name: PartitionedCall:0\n",
      "  Method name is: tensorflow/serving/predict\n",
      "WARNING:tensorflow:From /usr/local/lib/python3.6/dist-packages/tensorflow_core/python/ops/resource_variable_ops.py:1786: calling BaseResourceVariable.__init__ (from tensorflow.python.ops.resource_variable_ops) with constraint is deprecated and will be removed in a future version.\n",
      "Instructions for updating:\n",
      "If using Keras pass *_constraint arguments to layers.\n",
      "\n",
      "Defined Functions:\n",
      "  Function Name: '__call__'\n",
      "    Option #1\n",
      "      Callable with:\n",
      "        Argument #1\n",
      "          inputs: TensorSpec(shape=(None, 28, 28, 1), dtype=tf.float32, name='inputs')\n",
      "        Argument #2\n",
      "          DType: bool\n",
      "          Value: True\n",
      "        Argument #3\n",
      "          DType: NoneType\n",
      "          Value: None\n",
      "    Option #2\n",
      "      Callable with:\n",
      "        Argument #1\n",
      "          input_2: TensorSpec(shape=(None, 28, 28, 1), dtype=tf.float32, name='input_2')\n",
      "        Argument #2\n",
      "          DType: bool\n",
      "          Value: True\n",
      "        Argument #3\n",
      "          DType: NoneType\n",
      "          Value: None\n",
      "    Option #3\n",
      "      Callable with:\n",
      "        Argument #1\n",
      "          input_2: TensorSpec(shape=(None, 28, 28, 1), dtype=tf.float32, name='input_2')\n",
      "        Argument #2\n",
      "          DType: bool\n",
      "          Value: False\n",
      "        Argument #3\n",
      "          DType: NoneType\n",
      "          Value: None\n",
      "    Option #4\n",
      "      Callable with:\n",
      "        Argument #1\n",
      "          inputs: TensorSpec(shape=(None, 28, 28, 1), dtype=tf.float32, name='inputs')\n",
      "        Argument #2\n",
      "          DType: bool\n",
      "          Value: False\n",
      "        Argument #3\n",
      "          DType: NoneType\n",
      "          Value: None\n",
      "\n",
      "  Function Name: '_default_save_signature'\n",
      "    Option #1\n",
      "      Callable with:\n",
      "        Argument #1\n",
      "          input_2: TensorSpec(shape=(None, 28, 28, 1), dtype=tf.float32, name='input_2')\n",
      "\n",
      "  Function Name: 'call_and_return_all_conditional_losses'\n",
      "    Option #1\n",
      "      Callable with:\n",
      "        Argument #1\n",
      "          inputs: TensorSpec(shape=(None, 28, 28, 1), dtype=tf.float32, name='inputs')\n",
      "        Argument #2\n",
      "          DType: bool\n",
      "          Value: False\n",
      "        Argument #3\n",
      "          DType: NoneType\n",
      "          Value: None\n",
      "    Option #2\n",
      "      Callable with:\n",
      "        Argument #1\n",
      "          input_2: TensorSpec(shape=(None, 28, 28, 1), dtype=tf.float32, name='input_2')\n",
      "        Argument #2\n",
      "          DType: bool\n",
      "          Value: True\n",
      "        Argument #3\n",
      "          DType: NoneType\n",
      "          Value: None\n",
      "    Option #3\n",
      "      Callable with:\n",
      "        Argument #1\n",
      "          inputs: TensorSpec(shape=(None, 28, 28, 1), dtype=tf.float32, name='inputs')\n",
      "        Argument #2\n",
      "          DType: bool\n",
      "          Value: True\n",
      "        Argument #3\n",
      "          DType: NoneType\n",
      "          Value: None\n",
      "    Option #4\n",
      "      Callable with:\n",
      "        Argument #1\n",
      "          input_2: TensorSpec(shape=(None, 28, 28, 1), dtype=tf.float32, name='input_2')\n",
      "        Argument #2\n",
      "          DType: bool\n",
      "          Value: False\n",
      "        Argument #3\n",
      "          DType: NoneType\n",
      "          Value: None\n"
     ]
    }
   ],
   "source": [
    "!saved_model_cli show --all --dir {outputTensorrtPath}"
   ]
  },
  {
   "cell_type": "code",
   "execution_count": 6,
   "metadata": {},
   "outputs": [],
   "source": [
    "def normalize(imgPath):\n",
    "  \"\"\"Normalize the image to the scale in [-1, 1].\"\"\"\n",
    "  _img = tf.io.read_file(imgPath)\n",
    "  _img = tf.image.decode_jpeg(_img)\n",
    "  img = tf.cast(_img, tf.float32)\n",
    "  img = (img - 127.5) / 127.5\n",
    "  return img, _img\n",
    "\n",
    "def predictTFTRT(modelPath, imagePath):\n",
    "  x, _x = normalize(imagePath)\n",
    "  x = np.expand_dims(x, axis=0)  # [1, 28, 28, 1]\n",
    "  tensorX = tf.constant(x)\n",
    "  \n",
    "  savedModel = tf.saved_model.load(outputTensorrtPath, tags=[tag_constants.SERVING])\n",
    "  signatureKeys = list(savedModel.signatures.keys())\n",
    "  print(signatureKeys)\n",
    "    \n",
    "  infer = savedModel.signatures['serving_default']\n",
    "  print(infer.structured_outputs)\n",
    "    \n",
    "  labels = infer(tensorX)  # must be a tensor\n",
    "  classes = labels[\"dense_5\"].numpy()\n",
    "  return classes, _x"
   ]
  },
  {
   "cell_type": "code",
   "execution_count": 7,
   "metadata": {},
   "outputs": [
    {
     "name": "stdout",
     "output_type": "stream",
     "text": [
      "['serving_default']\n",
      "{'dense_5': TensorSpec(shape=<unknown>, dtype=tf.float32, name='dense_5')}\n"
     ]
    },
    {
     "data": {
      "image/png": "[encoded data removed]",
      "text/plain": [
       "<Figure size 432x288 with 1 Axes>"
      ]
     },
     "metadata": {
      "needs_background": "light"
     },
     "output_type": "display_data"
    }
   ],
   "source": [
    "classes, oriImg = predictTFTRT(outputTensorrtPath, \"test.jpg\")\n",
    "label = np.argmax(classes[0])\n",
    "prob = classes[0][label] * 100.0\n",
    "\n",
    "plt.figure()\n",
    "plt.imshow(oriImg.numpy(), cmap='gray')\n",
    "plt.axis(\"off\")\n",
    "plt.title(\"Pred: {} /w Prob: {:.3f}%\".format(label, prob))\n",
    "plt.show()"
   ]
  },
  {
   "cell_type": "markdown",
   "metadata": {},
   "source": [
    "# TFTRT FP16 Model"
   ]
  },
  {
   "cell_type": "code",
   "execution_count": 8,
   "metadata": {},
   "outputs": [
    {
     "name": "stdout",
     "output_type": "stream",
     "text": [
      "['serving_default']\n",
      "{'dense_5': TensorSpec(shape=<unknown>, dtype=tf.float32, name='dense_5')}\n"
     ]
    },
    {
     "data": {
      "image/png": "[encoded data removed]",
      "text/plain": [
       "<Figure size 432x288 with 1 Axes>"
      ]
     },
     "metadata": {
      "needs_background": "light"
     },
     "output_type": "display_data"
    }
   ],
   "source": [
    "outputTensorrtFP16Path = \"/tmp/mcclust/mnist_tensorrt_FP16\"\n",
    "\n",
    "classes, oriImg = predictTFTRT(outputTensorrtPath, \"test.jpg\")\n",
    "label = np.argmax(classes[0])\n",
    "prob = classes[0][label] * 100.0\n",
    "\n",
    "plt.figure()\n",
    "plt.imshow(oriImg.numpy(), cmap='gray')\n",
    "plt.axis(\"off\")\n",
    "plt.title(\"Pred: {} /w Prob: {:.3f}%\".format(label, prob))\n",
    "plt.show()"
   ]
  },
  {
   "cell_type": "code",
   "execution_count": null,
   "metadata": {},
   "outputs": [],
   "source": []
  }
 ],
 "metadata": {
  "kernelspec": {
   "display_name": "Python 3",
   "language": "python",
   "name": "python3"
  },
  "language_info": {
   "codemirror_mode": {
    "name": "ipython",
    "version": 3
   },
   "file_extension": ".py",
   "mimetype": "text/x-python",
   "name": "python",
   "nbconvert_exporter": "python",
   "pygments_lexer": "ipython3",
   "version": "3.6.9"
  }
 },
 "nbformat": 4,
 "nbformat_minor": 4
}
