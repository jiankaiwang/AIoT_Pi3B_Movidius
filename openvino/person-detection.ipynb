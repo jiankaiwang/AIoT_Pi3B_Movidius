{
 "cells": [
  {
   "cell_type": "markdown",
   "id": "5b28c884-4405-4fa9-b6ce-87155c4477dd",
   "metadata": {},
   "source": [
    "It is recommended using the docker container for OpenVINO.\n",
    "\n",
    "```sh\n",
    "docker pull openvino/ubuntu20_runtime\n",
    "docker run -it --rm openvino/ubuntu20_runtime bash\n",
    "```"
   ]
  },
  {
   "cell_type": "markdown",
   "id": "bfb87092-3037-4890-b619-161fd58bef2d",
   "metadata": {},
   "source": [
    "Install the packages first."
   ]
  },
  {
   "cell_type": "code",
   "execution_count": null,
   "id": "46a56782-9a0f-46fe-9dfc-088a058a00d4",
   "metadata": {},
   "outputs": [],
   "source": [
    "!pip install --no-cache-dir numpy opencv-python matplotlib"
   ]
  },
  {
   "cell_type": "code",
   "execution_count": null,
   "id": "c6f9f547-33bb-4bc3-abca-9fce670bd9ad",
   "metadata": {},
   "outputs": [],
   "source": [
    "import logging\n",
    "import time\n",
    "import os\n",
    "import numpy as np\n",
    "import cv2\n",
    "import codecs\n",
    "import matplotlib.pyplot as plt\n",
    "from openvino.inference_engine import IECore"
   ]
  },
  {
   "cell_type": "markdown",
   "id": "05bbeae0-0574-4f12-bbce-2c9a997e2e94",
   "metadata": {},
   "source": [
    "# Device information"
   ]
  },
  {
   "cell_type": "markdown",
   "id": "6bc4e461-35c1-4a4f-b001-fec67cc95de6",
   "metadata": {},
   "source": [
    "Use `lscpu` to check whether the CPU is available. Use `lsusb` to check whether the supported USB plugins are available, like Movidius NCS, etc."
   ]
  },
  {
   "cell_type": "code",
   "execution_count": null,
   "id": "f5fd672e-fe22-4470-90c5-4f5c2b2ae472",
   "metadata": {},
   "outputs": [],
   "source": [
    "!lscpu"
   ]
  },
  {
   "cell_type": "code",
   "execution_count": null,
   "id": "5866d12a-02c8-422a-91af-8a699b64863a",
   "metadata": {},
   "outputs": [],
   "source": [
    "!lsusb"
   ]
  },
  {
   "cell_type": "markdown",
   "id": "a503299b-27b7-424a-bf25-8ef3a493287f",
   "metadata": {},
   "source": [
    "# Person Detection"
   ]
  },
  {
   "cell_type": "markdown",
   "id": "6943cd7c-cd3a-42ed-adc9-9dd0ec4a786f",
   "metadata": {},
   "source": [
    "## Dataset Preparation\n",
    "\n",
    "Find the images under the directory and prepare their paths."
   ]
  },
  {
   "cell_type": "code",
   "execution_count": null,
   "id": "9a7128d0-0d10-4874-9b02-3b0ba9e1beea",
   "metadata": {},
   "outputs": [],
   "source": [
    "imgFolderPath = \"./pd/images\""
   ]
  },
  {
   "cell_type": "code",
   "execution_count": null,
   "id": "84bbf2ff-0014-4417-adb5-4841404136ef",
   "metadata": {},
   "outputs": [],
   "source": [
    "allImages = next(os.walk(imgFolderPath))[2]\n",
    "allImages = [img for img in allImages if img[-3:] == \"jpg\"]\n",
    "print(\"There are {} images.\".format(len(allImages)))\n",
    "\n",
    "allImagePaths = [os.path.join(imgFolderPath, imgName) for imgName in allImages]\n",
    "print(\"The first image path: {}\".format(allImagePaths[0]))"
   ]
  },
  {
   "cell_type": "markdown",
   "id": "f2268530-eb0b-4ba4-9103-2d441905079c",
   "metadata": {},
   "source": [
    "Show an example image."
   ]
  },
  {
   "cell_type": "code",
   "execution_count": null,
   "id": "69713551-181e-4422-ac51-34f0e26e01ee",
   "metadata": {},
   "outputs": [],
   "source": [
    "img = cv2.imread(allImagePaths[0])\n",
    "img = cv2.cvtColor(img, cv2.COLOR_BGR2RGB)\n",
    "plt.imshow(img)\n",
    "plt.show()"
   ]
  },
  {
   "cell_type": "markdown",
   "id": "7206dc7f-c8a0-45d7-8ed3-8d9b19f64d88",
   "metadata": {},
   "source": [
    "## OpenVINO Inference Runtime"
   ]
  },
  {
   "cell_type": "markdown",
   "id": "b7a7b36f-c80a-4d79-b25d-53df8590214a",
   "metadata": {},
   "source": [
    "Before inference, you have to convert the model corresponding to version of OpenVINO."
   ]
  },
  {
   "cell_type": "code",
   "execution_count": null,
   "id": "06aafff2-4ada-4d03-ac5b-4a4221d341f4",
   "metadata": {},
   "outputs": [],
   "source": [
    "# plugin initialization\n",
    "ie = IECore()\n",
    "\n",
    "myriad_config = {\"VPU_HW_STAGES_OPTIMIZATION\": \"YES\"}\n",
    "# ie.set_config(myriad_config, \"MYRIAD\")\n",
    "\n",
    "# read the intermediate representations\n",
    "net = ie.read_network(\"./pd/model/pd.xml\", \n",
    "                      \"./pd/model/pd.bin\")\n",
    "\n",
    "# prepare the I/Os\n",
    "net.batch_size = 1\n",
    "net_inputs = net.inputs\n",
    "net_outputs = net.outputs\n",
    "inputNames = list(net_inputs.keys())\n",
    "outputNames = list(net_outputs.keys())\n",
    "print(\"Network input:  {}\".format(inputNames))\n",
    "print(\"Network output: {}\".format(outputNames))\n",
    "\n",
    "input_blob = next(iter(net.inputs))\n",
    "output_blob = next(iter(net.outputs))\n",
    "\n",
    "# read and preprocess input images\n",
    "# in openvino, the shape is (batch_size, channels, height, width)\n",
    "_, _, height, width = net.inputs[input_blob].shape\n",
    "print(\"Image height: {} and width: {}\".format(height, width))"
   ]
  },
  {
   "cell_type": "markdown",
   "id": "d0267476-16df-46c1-ad86-75523287cab9",
   "metadata": {},
   "source": [
    "Preprocess the image as a batch. Unlike the other platforms, the batch shape for OpenVINO is `[B, C, H, W]`."
   ]
  },
  {
   "cell_type": "code",
   "execution_count": null,
   "id": "56ccc6ad-1483-40d9-a787-c6c8d9e7ed21",
   "metadata": {},
   "outputs": [],
   "source": [
    "def preprocessing(image, plot=False):\n",
    "  \"\"\"Preprocess the image as a batch.\"\"\"\n",
    "  image = cv2.resize(image, (width, height))\n",
    "  if plot:\n",
    "    plt.imshow(image)\n",
    "    plt.show()\n",
    "  image = np.swapaxes(image, 2, 0)\n",
    "  image = np.swapaxes(image, 1, 2)\n",
    "  image = np.expand_dims(image, axis=0)    \n",
    "  assert image.ndim == 4\n",
    "  return image\n",
    "\n",
    "processedImage = preprocessing(img, plot=True)\n",
    "print(\"The processed image's shape: {}.\".format(processedImage.shape))"
   ]
  },
  {
   "cell_type": "markdown",
   "id": "044e3bca-7858-4086-bd75-5c04b3357fee",
   "metadata": {},
   "source": [
    "Load the model and infer the preprocessed image by the blob name."
   ]
  },
  {
   "cell_type": "code",
   "execution_count": null,
   "id": "57f3b024-e710-4310-919f-3d47dea6f8e5",
   "metadata": {},
   "outputs": [],
   "source": [
    "# loading the model to the plugin\n",
    "model = ie.load_network(network=net, device_name=\"CPU\")\n",
    "\n",
    "# start the inference\n",
    "res = model.infer(inputs={input_blob: processedImage})\n",
    "\n",
    "# processing the outputs\n",
    "outputs = res[output_blob][0]\n",
    "print(\"Output: {}\".format(outputs.shape))"
   ]
  },
  {
   "cell_type": "markdown",
   "id": "b8311c5c-851d-47aa-a1ad-e1978295632d",
   "metadata": {},
   "source": [
    "Bundle all of the above and test the inference speed."
   ]
  },
  {
   "cell_type": "code",
   "execution_count": null,
   "id": "faf5dda6-2e21-4bef-b93f-d9a001d8b3e0",
   "metadata": {},
   "outputs": [],
   "source": [
    "ttlTime = 0.0\n",
    "count = 0\n",
    "for imgPath in allImagePaths:\n",
    "  img = cv2.imread(imgPath)\n",
    "  img = cv2.cvtColor(img, cv2.COLOR_BGR2RGB)  \n",
    "  processedImage = preprocessing(img)\n",
    "  startTime = time.perf_counter()\n",
    "  _ = model.infer(inputs={input_blob: processedImage})\n",
    "  ttlTime += time.perf_counter() - startTime\n",
    "  count += 1\n",
    "    \n",
    "print(\"Total Time: {:.4f} secs for {} images.\".format(ttlTime, count))\n",
    "print(\"Inference Time per Image: {:.4f} secs.\".format(ttlTime / count))\n",
    "print(\"FPS: {:.4f}.\".format(count / ttlTime))"
   ]
  },
  {
   "cell_type": "code",
   "execution_count": null,
   "id": "7b4da569-ad21-4d9e-b012-72bb47a5689c",
   "metadata": {},
   "outputs": [],
   "source": []
  }
 ],
 "metadata": {
  "kernelspec": {
   "display_name": "Python 3",
   "language": "python",
   "name": "python3"
  },
  "language_info": {
   "codemirror_mode": {
    "name": "ipython",
    "version": 3
   },
   "file_extension": ".py",
   "mimetype": "text/x-python",
   "name": "python",
   "nbconvert_exporter": "python",
   "pygments_lexer": "ipython3",
   "version": "3.6.9"
  }
 },
 "nbformat": 4,
 "nbformat_minor": 5
}
